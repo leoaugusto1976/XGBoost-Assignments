{
 "cells": [
  {
   "cell_type": "code",
   "execution_count": 21,
   "metadata": {},
   "outputs": [
    {
     "name": "stdout",
     "output_type": "stream",
     "text": [
      "train_data = 219129\n",
      "test_data = 146087\n",
      "Class\n",
      "0    218660\n",
      "1       469\n",
      "Name: count, dtype: int64\n"
     ]
    }
   ],
   "source": [
    "####################################################################################################\n",
    "### Binary Classification with a Tabular Credit Card Fraud Dataset\n",
    "### link: https://www.kaggle.com/competitions/playground-series-s3e4/overview\n",
    "####################################################################################################\n",
    "\n",
    "# Importing the libraries\n",
    "import pandas as pd\n",
    "from sklearn.model_selection import train_test_split\n",
    "from imblearn.over_sampling import SMOTE\n",
    "from imblearn.under_sampling import RandomUnderSampler\n",
    "from imblearn.pipeline import Pipeline\n",
    "from xgboost import XGBClassifier\n",
    "from sklearn.metrics import roc_auc_score\n",
    "\n",
    "# Importing the dataset\n",
    "train_data = pd.read_csv(r'train.csv',index_col=0)\n",
    "test_data  = pd.read_csv(r'test.csv',index_col=0)\n",
    "\n",
    "# Printing the number of rows of the train and test data\n",
    "print(\"train_data = \" + str(len(train_data)))\n",
    "print(\"test_data = \" + str(len(test_data)))\n",
    "\n",
    "# Printing the number of 0s and 1s in the train data for the Class column\n",
    "print(train_data['Class'].value_counts())"
   ]
  },
  {
   "cell_type": "code",
   "execution_count": 22,
   "metadata": {},
   "outputs": [],
   "source": [
    "# Separate features (X) and target variable (y) from the train dataset\n",
    "X_train = train_data.drop(columns=['Class'])  # Features\n",
    "y_train = train_data['Class']  # Target variable\n",
    "\n",
    "# Define resampling strategy based on the available number of samples for each class\n",
    "over_sampling = SMOTE(sampling_strategy={1: min(5000, y_train.value_counts()[1])})\n",
    "under_sampling = RandomUnderSampler(sampling_strategy={0: min(5000, y_train.value_counts()[0])})\n",
    "\n",
    "# Create a pipeline for resampling\n",
    "sampling_pipeline = Pipeline([\n",
    "    ('over_sampling', over_sampling),\n",
    "    ('under_sampling', under_sampling)\n",
    "])\n",
    "\n",
    "# Apply resampling to the training data\n",
    "X_train_resampled, y_train_resampled = sampling_pipeline.fit_resample(X_train, y_train)\n",
    "\n",
    "# Initialize the XGBoost classifier\n",
    "model = XGBClassifier()\n",
    "\n",
    "# Train the model on the resampled data\n",
    "model.fit(X_train_resampled, y_train_resampled)\n",
    "\n",
    "# Make predictions on the test set\n",
    "test_predictions = model.predict_proba(test_data)[:, 1]  # Predicted probabilities of class 1 for the test data\n",
    "\n",
    "# Save the predicted probabilities to a DataFrame for submission\n",
    "submission_df = pd.DataFrame({\n",
    "    'id': test_data.index,  # Assuming the index is the 'id' column in the test data\n",
    "    'Class': test_predictions  # Predicted probabilities for the 'Class'\n",
    "})\n",
    "\n",
    "# Save the submission DataFrame to a CSV file\n",
    "submission_df.to_csv('submission_file.csv', index=False)"
   ]
  }
 ],
 "metadata": {
  "kernelspec": {
   "display_name": "Python 3",
   "language": "python",
   "name": "python3"
  },
  "language_info": {
   "codemirror_mode": {
    "name": "ipython",
    "version": 3
   },
   "file_extension": ".py",
   "mimetype": "text/x-python",
   "name": "python",
   "nbconvert_exporter": "python",
   "pygments_lexer": "ipython3",
   "version": "3.11.6"
  }
 },
 "nbformat": 4,
 "nbformat_minor": 2
}
