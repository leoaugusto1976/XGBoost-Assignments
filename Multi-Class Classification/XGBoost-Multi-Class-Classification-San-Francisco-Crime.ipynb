{
 "cells": [
  {
   "cell_type": "code",
   "execution_count": 21,
   "metadata": {},
   "outputs": [
    {
     "name": "stdout",
     "output_type": "stream",
     "text": [
      "train_data = 878049\n",
      "test_data = 884262\n"
     ]
    }
   ],
   "source": [
    "####################################################################################################\n",
    "### Binary Classification with a Tabular Credit Card Fraud Dataset\n",
    "### link: https://www.kaggle.com/competitions/playground-series-s3e4/overview\n",
    "####################################################################################################\n",
    "\n",
    "# Importing the libraries\n",
    "import pandas as pd\n",
    "from xgboost import XGBClassifier\n",
    "from sklearn.preprocessing import LabelEncoder\n",
    "\n",
    "# Importing the dataset\n",
    "train_data = pd.read_csv(r'sf-crime/train.csv',index_col=0)\n",
    "test_data  = pd.read_csv(r'sf-crime/test.csv',index_col=0)\n",
    "\n",
    "# Printing the number of rows of the train and test data\n",
    "print(\"train_data = \" + str(len(train_data)))\n",
    "print(\"test_data = \" + str(len(test_data)))"
   ]
  },
  {
   "cell_type": "code",
   "execution_count": 23,
   "metadata": {},
   "outputs": [
    {
     "name": "stdout",
     "output_type": "stream",
     "text": [
      "Non-Numerical Columns in Train Data: ['Category', 'Descript', 'DayOfWeek', 'PdDistrict', 'Resolution', 'Address']\n",
      "Non-Numerical Columns in Test Data: ['Dates', 'DayOfWeek', 'PdDistrict', 'Address']\n"
     ]
    }
   ],
   "source": [
    "# Identify non-numerical columns in train_data\n",
    "non_numerical_columns_train = train_data.select_dtypes(exclude=['number']).columns.tolist()\n",
    "\n",
    "# Identify non-numerical columns in test_data\n",
    "non_numerical_columns_test = test_data.select_dtypes(exclude=['number']).columns.tolist()\n",
    "\n",
    "print(\"Non-Numerical Columns in Train Data:\", non_numerical_columns_train)\n",
    "print(\"Non-Numerical Columns in Test Data:\", non_numerical_columns_test)"
   ]
  },
  {
   "cell_type": "code",
   "execution_count": 25,
   "metadata": {},
   "outputs": [],
   "source": [
    "# Encode categorical variables in training data\n",
    "label_encoder = LabelEncoder()\n",
    "train_data['DayOfWeekLabel'] = label_encoder.fit_transform(train_data['DayOfWeek'])\n",
    "test_data['DayOfWeekLabel'] = label_encoder.transform(test_data['DayOfWeek'])\n",
    "\n",
    "train_data['PdDistrictLabel'] = label_encoder.fit_transform(train_data['PdDistrict'])\n",
    "test_data['PdDistrictLabel'] = label_encoder.transform(test_data['PdDistrict'])\n",
    "\n",
    "train_data['CategoryLabel'] = label_encoder.fit_transform(train_data['Category'])\n",
    "train_data['DescriptLabel'] = label_encoder.fit_transform(train_data['Descript'])\n",
    "train_data['ResolutionLabel'] = label_encoder.fit_transform(train_data['Resolution'])\n",
    "\n",
    "# Prepare features and target variable for training\n",
    "X_train = train_data[['DayOfWeekLabel', 'PdDistrictLabel', 'X', 'Y']]  # Choose relevant features\n",
    "\n",
    "y_train = train_data['CategoryLabel']  # Target variable\n",
    "\n",
    "# Initialize XGBoost Classifier\n",
    "xgb = XGBClassifier(\n",
    "    objective='multi:softprob',\n",
    "    num_class=len(label_encoder.classes_), #num_class=len(train_data['Category'].unique()),\n",
    "    max_depth=6,  # Adjust max_depth\n",
    "    learning_rate=0.1,  # Adjust learning_rate\n",
    "    n_estimators=100,  # Adjust number of estimators\n",
    "    random_state=42\n",
    ")\n",
    "\n",
    "# Train the model\n",
    "xgb.fit(X_train, y_train)\n",
    "\n",
    "# Preprocess test data\n",
    "X_test = test_data[['DayOfWeekLabel', 'PdDistrictLabel', 'X', 'Y']]  # Choose relevant features\n",
    "\n",
    "# Make predictions on test data\n",
    "predictions_proba = xgb.predict_proba(X_test)\n",
    "\n",
    "# Create DataFrame for submission\n",
    "submission = pd.DataFrame(predictions_proba, columns=xgb.classes_)\n",
    "\n",
    "# Replace extreme values in predicted probabilities\n",
    "epsilon = 1e-15\n",
    "submission.iloc[:, 1:] = submission.iloc[:, 1:].clip(epsilon, 1 - epsilon)\n",
    "\n",
    "# Normalize predicted probabilities\n",
    "submission.iloc[:, 1:] = submission.iloc[:, 1:].div(submission.iloc[:, 1:].sum(axis=1), axis=0)\n",
    "\n",
    "# Save predictions to a CSV file\n",
    "submission.to_csv('submission.csv', index=False)\n"
   ]
  }
 ],
 "metadata": {
  "kernelspec": {
   "display_name": "Python 3",
   "language": "python",
   "name": "python3"
  },
  "language_info": {
   "codemirror_mode": {
    "name": "ipython",
    "version": 3
   },
   "file_extension": ".py",
   "mimetype": "text/x-python",
   "name": "python",
   "nbconvert_exporter": "python",
   "pygments_lexer": "ipython3",
   "version": "3.11.6"
  }
 },
 "nbformat": 4,
 "nbformat_minor": 2
}
